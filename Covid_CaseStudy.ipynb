{
  "nbformat": 4,
  "nbformat_minor": 0,
  "metadata": {
    "colab": {
      "provenance": [],
      "authorship_tag": "ABX9TyPdBTD8HlNWHb0V29Tb6erz",
      "include_colab_link": true
    },
    "kernelspec": {
      "name": "python3",
      "display_name": "Python 3"
    },
    "language_info": {
      "name": "python"
    }
  },
  "cells": [
    {
      "cell_type": "markdown",
      "metadata": {
        "id": "view-in-github",
        "colab_type": "text"
      },
      "source": [
        "<a href=\"https://colab.research.google.com/github/tushar-nebhnani/Covid-19-Analysis/blob/main/Covid_CaseStudy.ipynb\" target=\"_parent\"><img src=\"https://colab.research.google.com/assets/colab-badge.svg\" alt=\"Open In Colab\"/></a>"
      ]
    },
    {
      "cell_type": "markdown",
      "source": [
        "CASE STUDY: COVID 2019 DAILY CASES AND PEAK ANALYSIS"
      ],
      "metadata": {
        "id": "cVsi-jvqglCB"
      }
    },
    {
      "cell_type": "markdown",
      "source": [
        "These three lines are foundational for most data science workflows in Python. They equip you to efficiently load and manipulate data using pandas, and then create a wide variety of sophisticated plots and charts with matplotlib and seaborn to better understand and present your findings."
      ],
      "metadata": {
        "id": "B6-FI1n0fueG"
      }
    },
    {
      "cell_type": "code",
      "execution_count": null,
      "metadata": {
        "id": "Qa0rDKT69lOP"
      },
      "outputs": [],
      "source": [
        "# import of modules\n",
        "import pandas as pd # # Import the pandas library for data manipulation.\n",
        "import matplotlib.pyplot as plt # # Import the matplotlib.pyplot module for plotting, commonly aliased as 'plt'.\n",
        "import seaborn as sns # seaborn module\n",
        "from tabulate import tabulate # Import the tabulate library for pretty-printing tabular data."
      ]
    },
    {
      "cell_type": "markdown",
      "source": [
        "Question 1: How do you load the COVID-19 datasets for confirmed cases, deaths recoveries into Python using pandas?"
      ],
      "metadata": {
        "id": "s6bmFMDc-Rh1"
      }
    },
    {
      "cell_type": "code",
      "source": [
        "# File handling & Reading data from the files\n",
        "try:\n",
        "    # Attempt to read the CSV file for confirmed COVID-19 cases into a pandas DataFrame\n",
        "    confirmed_df = pd.read_csv(\"/content/covid_19_confirmed_v1_lyst1747728690432.csv\")\n",
        "    # Attempt to read the CSV file for confirmed COVID-19 deaths into a pandas DataFrame\n",
        "    deaths_raw = pd.read_csv(\"/content/covid_19_deaths_v1_lyst1747728711771.csv\")\n",
        "    # Attempt to read the CSV file for recovered COVID-19 cases into a pandas DataFrame\n",
        "    recovered_raw = pd.read_csv(\"/content/covid_19_recovered_v1_lyst1747728719904.csv\")\n",
        "except FileNotFoundError as e:\n",
        "    # If a FileNotFoundError occurs (i.e., a file is not found), print an error message\n",
        "    # 'e' contains the specific error details.\n",
        "    print(f\"Error: {e} - confirmed_cases DataFrame might not be loaded.\")\n",
        "    print(f\"Error: {e} - confirmed_deaths DataFrame might not be loaded.\")\n",
        "    print(f\"Error: {e} - recovered_cases DataFrame might not be loaded.\")\n",
        "else:\n",
        "    # This block executes if no exceptions were raised in the 'try' block.\n",
        "    # It indicates that all files were successfully loaded.\n",
        "    print(\"Data successfully loaded from the files.\")\n",
        "finally:\n",
        "    # This block always executes, regardless of whether an exception occurred or not.\n",
        "    # It signifies the completion of the file handling operation.\n",
        "    print(\"Execution complete!\")"
      ],
      "metadata": {
        "id": "d13GgK3Z-6AN",
        "colab": {
          "base_uri": "https://localhost:8080/"
        },
        "outputId": "d33ad98b-15cd-4867-bea2-ebcb173c7214"
      },
      "execution_count": null,
      "outputs": [
        {
          "output_type": "stream",
          "name": "stdout",
          "text": [
            "Data successfully loaded from the files.\n",
            "Execution complete!\n"
          ]
        }
      ]
    },
    {
      "cell_type": "markdown",
      "source": [
        "Cleaning the data given by dataFrame"
      ],
      "metadata": {
        "id": "rbB3JDNyjzGa"
      }
    },
    {
      "cell_type": "code",
      "source": [
        "# Loading files data\n",
        "# --- Cleaning and preparing the 'confirmed_cases' DataFrame ---\n",
        "confirmed = confirmed_df[1:].copy() # Create a copy of the DataFrame, excluding the first row. This first row often contains metadata or is a duplicate header.\n",
        "confirmed.columns = confirmed_df.iloc[0] # Set the column names of the 'confirmed' DataFrame using the actual header row from the original 'confirmed_cases'.\n",
        "confirmed.reset_index(drop=True, inplace=True) # Reset the DataFrame index to start from 0, discarding the old index.\n",
        "\n",
        "# --- Cleaning and preparing the 'confirmed_deaths' DataFrame ---\n",
        "deaths = deaths_raw[1:].copy() # Create a copy of the DataFrame, excluding the first row.\n",
        "deaths.columns = deaths_raw.iloc[0] # Set the column names of the 'deaths' DataFrame using the actual header row from the original 'confirmed_deaths'.\n",
        "deaths.reset_index(drop=True, inplace=True) # Reset the DataFrame index to start from 0, discarding the old index.\n",
        "\n",
        "# --- Cleaning and preparing the 'recovered_cases' DataFrame ---\n",
        "recoverd = recovered_raw[1:].copy() # Create a copy of the DataFrame, excluding the first row.\n",
        "recoverd.columns = recovered_raw.iloc[0] # Set the column names of the 'recovered' DataFrame using the actual header row from the original 'recovered_cases'.\n",
        "recoverd.reset_index(drop=True, inplace=True) # Reset the DataFrame index to start from 0, discarding the old index.\n",
        "\n",
        "# --- Displaying previews of the original, uncleaned datasets ---\n",
        "print(\"\\n*** PREVIEW OF OUR DATASET ***\")\n",
        "print(\"\\nConfirmed Cases Preview:\")\n",
        "print(confirmed_df.head()) # Print the first 5 rows of the original 'confirmed_cases' DataFrame.\n",
        "print(\"\\nDeaths Preview:\")\n",
        "print(deaths_raw.head()) # Print the first 5 rows of the original 'confirmed_deaths' DataFrame.\n",
        "print(\"\\nRecovered Preview:\")\n",
        "print(recovered_raw.head()) # Print the first 5 rows of the original 'recovered_cases' DataFrame."
      ],
      "metadata": {
        "collapsed": true,
        "id": "8B67hiqiDNQj"
      },
      "execution_count": null,
      "outputs": []
    },
    {
      "cell_type": "markdown",
      "source": [
        "Question 2.1: After loading the data what is the structure of each dataset in terms of rows, columns and datatype?  "
      ],
      "metadata": {
        "id": "KzCAL9FfHATR"
      }
    },
    {
      "cell_type": "code",
      "source": [
        "print(\"Confirmed Cases Dataset Info:\")\n",
        "print(confirmed_df.info()) # Print a concise summary of the 'confirmed_cases' DataFrame, including data types, non-null values, and memory usage.\n",
        "\n",
        "print(\"\\nDeaths Dataset Info:\") # Print a newline for better readability before the next output.\n",
        "print(deaths_raw.info()) # Print a concise summary of the 'confirmed_deaths' DataFrame.\n",
        "\n",
        "print(\"\\nRecovered Dataset Info:\") # Print a newline for better readability before the next output.\n",
        "print(recovered_raw.info()) # Print a concise summary of the 'recovered_cases' DataFrame."
      ],
      "metadata": {
        "collapsed": true,
        "id": "pmgXq0gRHj2V"
      },
      "execution_count": null,
      "outputs": []
    },
    {
      "cell_type": "code",
      "source": [
        "# --- Creating a Summary Table ---\n",
        "# Define the data for a summary table manually.\n",
        "# Each inner list represents a row: [Dataset Name, Number of Rows, Number of Columns, Data Types Info].\n",
        "# The data types info is a dictionary summarizing column types.\n",
        "summary_table = [\n",
        "    [\"Confirmed Cases\", 276, 498, {\"int64\": 494, \"float64\": 2, \"object\": 2}],\n",
        "    [\"Deaths\", 276, 498, {\"object\": 498}], # Note: Deaths and Recovered might have all 'object' type initially due to the header adjustment\n",
        "    [\"Recovered\", 261, 498, {\"object\": 498}]\n",
        "]\n",
        "\n",
        "# Print the summary table using the 'tabulate' library for a nicely formatted output.\n",
        "# headers: Defines the column headers for the printed table.\n",
        "# tablefmt: Specifies the table format (e.g., \"grid\" for a grid-like appearance).\n",
        "print(tabulate(\n",
        "    summary_table,\n",
        "    headers=[\"Dataset\", \"Rows\", \"Columns\", \"Data Types\"], # Added 'Data Types' header to match summary_table structure\n",
        "    tablefmt=\"grid\"\n",
        "))"
      ],
      "metadata": {
        "id": "vqZ9rTeMVEGD"
      },
      "execution_count": null,
      "outputs": []
    },
    {
      "cell_type": "markdown",
      "source": [
        "Question 2.2: Generate plot over time for top countries?"
      ],
      "metadata": {
        "id": "3F6r-AKwIJ09"
      }
    },
    {
      "cell_type": "code",
      "source": [
        "# Load the confirmed COVID-19 cases dataset from the specified CSV file into a pandas DataFrame.\n",
        "# This DataFrame 'confirmed_df' is expected to contain geographical information (Province/State, Country/Region, Lat, Long)\n",
        "# followed by columns representing dates with corresponding cumulative confirmed case counts.\n",
        "confirmed_df = pd.read_csv('covid_19_confirmed_v1_lyst1747728690432.csv')\n",
        "\n",
        "# Drop irrelevant columns from the DataFrame.\n",
        "# 'Province/State', 'Lat', and 'Long' are dropped as the analysis focuses on country-level totals,\n",
        "# and these granular details are not needed for this specific visualization.\n",
        "# `axis=1` specifies that columns, not rows, should be dropped.\n",
        "confirmed_df_melted = confirmed_df.drop(['Province/State', 'Lat', 'Long'], axis=1)\n",
        "\n",
        "# Group the DataFrame by 'Country/Region' and sum the values across all remaining columns (which are dates).\n",
        "# This action aggregates confirmed cases from different sub-regions (e.g., states or provinces)\n",
        "# within the same country, providing a single cumulative confirmed case count for each country per date.\n",
        "confirmed_df_melted = confirmed_df_melted.groupby('Country/Region').sum()\n",
        "\n",
        "# Transpose the grouped DataFrame.\n",
        "# After grouping, 'Country/Region' are rows and dates are columns. Transposing makes 'Date' the index (rows)\n",
        "# and 'Country/Region' the columns. This format is ideal for time-series plotting, where each column\n",
        "# represents a distinct time series for a particular country.\n",
        "confirmed_df_transposed = confirmed_df_melted.T\n",
        "\n",
        "# Convert the index of the transposed DataFrame to datetime objects.\n",
        "# The index currently contains date strings; converting them to datetime objects is crucial\n",
        "# for proper chronological sorting, time-series analysis capabilities, and correct plotting behavior in matplotlib.\n",
        "confirmed_df_transposed.index = pd.to_datetime(confirmed_df_transposed.index)\n",
        "\n",
        "# Identify the top 5 countries with the highest cumulative confirmed cases on the latest available date.\n",
        "# `iloc[-1]` selects the last row of the transposed DataFrame, which corresponds to the latest date.\n",
        "# `.sort_values(ascending=False)` sorts these latest case counts in descending order.\n",
        "# `.head(5)` selects the top 5 entries (countries) from the sorted list.\n",
        "# `.index` extracts the country names (which are now the column headers) of these top 5 entries.\n",
        "top_countries = confirmed_df_transposed.iloc[-1].sort_values(ascending=False).head(5).index\n",
        "\n",
        "# Create a new figure and a set of subplots for the visualization.\n",
        "# `figsize=(12, 6)` sets the dimensions of the plot to 12 inches wide by 6 inches tall,\n",
        "# providing ample space for the multiple time-series lines.\n",
        "plt.figure(figsize=(12, 6))\n",
        "\n",
        "# Loop through each country in the 'top_countries' list.\n",
        "for country in top_countries:\n",
        "    # Plot the cumulative confirmed cases for the current 'country' over time.\n",
        "    # `confirmed_df_transposed.index` provides the dates for the x-axis.\n",
        "    # `confirmed_df_transposed[country]` provides the cumulative confirmed case counts for the y-axis\n",
        "    # for the specific country in the current iteration.\n",
        "    # `label=country` assigns the country's name as the label for its line in the plot's legend.\n",
        "    plt.plot(confirmed_df_transposed.index, confirmed_df_transposed[country], label=country)\n",
        "\n",
        "# Set the main title of the plot.\n",
        "plt.title(\"Confirmed COVID-19 Cases Over Time (Top 5 Countries)\")\n",
        "\n",
        "# Set the label for the x-axis.\n",
        "plt.xlabel(\"Date\")\n",
        "\n",
        "# Set the label for the y-axis.\n",
        "plt.ylabel(\"Cumulative Confirmed Cases\")\n",
        "\n",
        "# Display the legend on the plot. The legend uses the 'label' argument provided in the plt.plot() calls,\n",
        "# helping to differentiate between the lines representing different countries.\n",
        "plt.legend()\n",
        "\n",
        "# Add a grid to the plot background. Grids make it easier to read values along both axes\n",
        "# and to discern trends and specific data points more precisely.\n",
        "plt.grid(True)\n",
        "\n",
        "# Automatically adjust plot parameters for a tight layout. This helps prevent labels, titles,\n",
        "# and axis ticks from overlapping or being cut off, ensuring the plot is visually neat and legible.\n",
        "plt.tight_layout()\n",
        "\n",
        "# Rotate the x-axis tick labels (dates) by 45 degrees. This is a common practice for time-series plots\n",
        "# to prevent date labels from overlapping when there are many data points or long date strings.\n",
        "plt.xticks(rotation=45)\n",
        "\n",
        "# Display the generated plot. This command renders the plot to the output.\n",
        "# Without `plt.show()`, the plot might be created in memory but not shown.\n",
        "plt.show()"
      ],
      "metadata": {
        "collapsed": true,
        "id": "YybKj1sjIGul"
      },
      "execution_count": null,
      "outputs": []
    },
    {
      "cell_type": "markdown",
      "source": [
        "Question 2.3 Generate plot over time for China?"
      ],
      "metadata": {
        "id": "GDo6tR8qPeVE"
      }
    },
    {
      "cell_type": "code",
      "source": [
        "# Filter the 'confirmed_df' DataFrame to select only the rows where the 'Country/Region' is 'China'.\n",
        "# This creates a new DataFrame containing all confirmed case data for China, potentially including\n",
        "# different provinces or states within China.\n",
        "china_df = confirmed_df[confirmed_df['Country/Region'] == 'China']\n",
        "\n",
        "# Drop columns that are not needed for calculating the total confirmed cases over time.\n",
        "# 'Province/State', 'Country/Region', 'Lat', and 'Long' are identifier or geographical columns.\n",
        "# axis=1 indicates that columns should be dropped.\n",
        "# .sum() then calculates the sum of confirmed cases across all remaining columns (which are dates).\n",
        "# This aggregates cases from all provinces/states within China for each date, resulting in a Series\n",
        "# where the index is the date and values are the total confirmed cases for China on that date.\n",
        "china_total = china_df.drop(['Province/State', 'Country/Region', 'Lat', 'Long'], axis=1).sum()\n",
        "\n",
        "# Convert the index of the 'china_total' Series (which are date strings) into proper datetime objects.\n",
        "# This is crucial for accurate time-series plotting and ensures matplotlib handles dates correctly.\n",
        "china_total.index = pd.to_datetime(china_total.index)\n",
        "\n",
        "# Create a new figure and a set of subplots for the plot.\n",
        "# figsize=(12, 6) sets the width of the figure to 12 inches and the height to 6 inches,\n",
        "# providing a good visual balance for a time-series plot.\n",
        "plt.figure(figsize=(12, 6))\n",
        "\n",
        "# Plot the total confirmed COVID-19 cases in China over time.\n",
        "# china_total.index provides the dates for the x-axis.\n",
        "# china_total.values provides the cumulative confirmed case counts for the y-axis.\n",
        "# label='China' assigns a label to this line for the legend.\n",
        "# color='red' sets the line color to red.\n",
        "plt.plot(china_total.index, china_total.values, label='China', color='red')\n",
        "\n",
        "# Set the title of the plot.\n",
        "plt.title(\"Confirmed COVID-19 Cases Over Time in China\")\n",
        "\n",
        "# Set the label for the x-axis.\n",
        "plt.xlabel(\"Date\")\n",
        "\n",
        "# Set the label for the y-axis.\n",
        "plt.ylabel(\"Cumulative Confirmed Cases\")\n",
        "\n",
        "# Add a grid to the plot for better readability, making it easier to follow trends and estimate values.\n",
        "plt.grid(True)\n",
        "\n",
        "# Display the legend, which shows the label for the plotted line (e.g., 'China').\n",
        "plt.legend()\n",
        "\n",
        "# Adjust plot parameters for a tight layout, ensuring that labels, titles, and axes\n",
        "# do not overlap or get cut off, making the plot visually appealing.\n",
        "plt.tight_layout()\n",
        "\n",
        "# Rotate the x-axis (date) labels by 45 degrees. This is commonly done for time-series plots\n",
        "# to prevent date labels from overlapping when there are many data points.\n",
        "plt.xticks(rotation=45)\n",
        "\n",
        "# Display the generated plot. Without plt.show(), the plot might be created in memory\n",
        "# but not rendered to the output.\n",
        "plt.show()"
      ],
      "metadata": {
        "id": "8tUOqTmGQO-S"
      },
      "execution_count": null,
      "outputs": []
    },
    {
      "cell_type": "markdown",
      "source": [
        "Question 3: Identify these missing values and replace them using a suitable implementation method such as forward filling, for time-series data?\n"
      ],
      "metadata": {
        "id": "FzTX9SsfRxDx"
      }
    },
    {
      "cell_type": "code",
      "source": [
        "# --- 1. Check Missing Values BEFORE Forward Fill ---\n",
        "# Initialize a dictionary to store the count of missing values for each dataset.\n",
        "# The keys are dataset names and values are lists containing the total number of missing values.\n",
        "missing_before = {\n",
        "    \"Dataset\": [\"Confirmed\", \"Deaths\", \"Recovered\"], # Names of the datasets\n",
        "    \"Missing Values Before\": [\n",
        "        # Calculate the total number of missing (NaN) values in the 'confirmed_df' DataFrame.\n",
        "        # .isnull() creates a boolean DataFrame where True indicates a missing value.\n",
        "        # .sum().sum() sums all True values (treated as 1) across the entire DataFrame.\n",
        "        confirmed_df.isnull().sum().sum(),\n",
        "        # Calculate total missing values for 'deaths_df'.\n",
        "        deaths_raw.isnull().sum().sum(),\n",
        "        # Calculate total missing values for 'recovered_df'.\n",
        "        recovered_raw.isnull().sum().sum()\n",
        "    ]\n",
        "}\n",
        "\n",
        "# --- 2. Apply Forward Fill (ffill) ---\n",
        "# Apply the forward fill method to each DataFrame.\n",
        "# .ffill() propagates the last valid observation forward to fill missing values.\n",
        "# axis=1 specifies that the filling should occur row-wise (horizontally),\n",
        "# meaning each missing value is filled with the previous valid value in the same row.\n",
        "# This is common for time-series data where columns represent successive time points.\n",
        "confirmed_df_filled = confirmed_df.ffill(axis=1)\n",
        "deaths_df_filled = deaths_raw.ffill(axis=1)\n",
        "recovered_df_filled = recovered_raw.ffill(axis=1)\n",
        "\n",
        "# --- 3. Check Missing Values AFTER Forward Fill ---\n",
        "# Calculate the total number of missing values in each DataFrame after applying forward fill.\n",
        "# The results are stored in a list.\n",
        "missing_after = [\n",
        "    confirmed_df_filled.isnull().sum().sum(), # Missing values in filled confirmed_df\n",
        "    deaths_df_filled.isnull().sum().sum(),    # Missing values in filled deaths_df\n",
        "    recovered_df_filled.isnull().sum().sum()   # Missing values in filled recovered_df\n",
        "]\n",
        "\n",
        "# --- 4. Print Results (Before and After) ---\n",
        "# Print the counts of missing values before applying forward fill.\n",
        "print(\"Missing Values BEFORE Forward Fill:\")\n",
        "print(\"Confirmed:\", missing_before[\"Missing Values Before\"][0])\n",
        "print(\"Deaths:\", missing_before[\"Missing Values Before\"][1])\n",
        "print(\"Recovered:\", missing_before[\"Missing Values Before\"][2])\n",
        "\n",
        "# Print a newline for better readability.\n",
        "print(\"\\nMissing Values AFTER Forward Fill:\")\n",
        "# Print the counts of missing values after applying forward fill.\n",
        "print(\"Confirmed:\", missing_after[0])\n",
        "print(\"Deaths:\", missing_after[1])\n",
        "print(\"Recovered:\", missing_after[2])"
      ],
      "metadata": {
        "id": "Zf0dIrb8SFQK",
        "colab": {
          "base_uri": "https://localhost:8080/"
        },
        "outputId": "aad7881c-9558-431c-a257-3a330f5723b7"
      },
      "execution_count": null,
      "outputs": [
        {
          "output_type": "stream",
          "name": "stdout",
          "text": [
            "Missing Values BEFORE Forward Fill:\n",
            "Confirmed: 194\n",
            "Deaths: 195\n",
            "Recovered: 194\n",
            "\n",
            "Missing Values AFTER Forward Fill:\n",
            "Confirmed: 190\n",
            "Deaths: 190\n",
            "Recovered: 191\n",
            "\n",
            "Summary Table:\n",
            "     Dataset  Missing Values Before  Missing Values After\n",
            "0  Confirmed                    194                   190\n",
            "1     Deaths                    195                   190\n",
            "2  Recovered                    194                   191\n"
          ]
        }
      ]
    },
    {
      "cell_type": "code",
      "source": [
        "# --- 5. Create and Display a Summary Table ---\n",
        "# Create a list of lists to form a summary table.\n",
        "# Each inner list represents a row: [Dataset Name, Missing Before, Missing After].\n",
        "# This uses a list comprehension to iterate through the datasets.\n",
        "summary_table = [\n",
        "    [missing_before[\"Dataset\"][i], missing_before[\"Missing Values Before\"][i], missing_after[i]]\n",
        "    for i in range(3) # Iterate 3 times for the three datasets (Confirmed, Deaths, Recovered)\n",
        "]\n",
        "\n",
        "# Create a pandas DataFrame from the 'summary_table'.\n",
        "# Assign appropriate column names for clarity.\n",
        "summary_df = pd.DataFrame(summary_table, columns=[\"Dataset\", \"Missing Values Before\", \"Missing Values After\"])\n",
        "\n",
        "# Print a header for the summary table.\n",
        "print(\"\\nSummary Table:\")\n",
        "# Display the summary DataFrame, which clearly shows the effectiveness of the forward fill.\n",
        "print(summary_df)"
      ],
      "metadata": {
        "colab": {
          "base_uri": "https://localhost:8080/"
        },
        "id": "P5vreFC6Xl76",
        "outputId": "e6e0c364-e610-4576-f3e6-5ac38eb895ab"
      },
      "execution_count": null,
      "outputs": [
        {
          "output_type": "stream",
          "name": "stdout",
          "text": [
            "\n",
            "Summary Table:\n",
            "     Dataset  Missing Values Before  Missing Values After\n",
            "0  Confirmed                    194                   190\n",
            "1     Deaths                    195                   190\n",
            "2  Recovered                    194                   191\n"
          ]
        }
      ]
    },
    {
      "cell_type": "markdown",
      "source": [
        "Question 4: Replace blank values in the column with \"All Provinces\"?"
      ],
      "metadata": {
        "id": "UhM0KpAEZrQX"
      }
    },
    {
      "cell_type": "code",
      "source": [],
      "metadata": {
        "id": "LOMd2h4fZzAM"
      },
      "execution_count": null,
      "outputs": []
    },
    {
      "cell_type": "markdown",
      "source": [
        "Question 5.1: Analyze the peak number of daily new cases in germany, france and italy? Which country has the highest number of surge in a single day and when did it occur?"
      ],
      "metadata": {
        "id": "dJ5LmqvVbuDg"
      }
    },
    {
      "cell_type": "code",
      "source": [
        "import pandas as pd # It's good practice to import pandas, assuming it's used elsewhere or might be needed for DataFrame operations.\n",
        "\n",
        "# Define a list of specific countries that we want to analyze.\n",
        "target_countries = ['Germany', 'France', 'Italy']\n",
        "\n",
        "# Filter the 'confirmed_df' DataFrame to include only the rows where the 'Country/Region'\n",
        "# is one of the specified 'target_countries'.\n",
        "confirmed_filtered = confirmed_df[confirmed_df['Country/Region'].isin(target_countries)]\n",
        "\n",
        "# Group the filtered data by 'Country/Region' and calculate the sum of all numeric columns.\n",
        "# This aggregates confirmed cases for each country over all dates, especially useful if\n",
        "# the original data has multiple entries for the same country (e.g., by province/state).\n",
        "# numeric_only=True ensures that only numerical columns are considered for summing.\n",
        "confirmed_by_country = confirmed_filtered.groupby('Country/Region').sum(numeric_only=True)\n",
        "\n",
        "# Drop 'Lat' (Latitude) and 'Long' (Longitude) columns if they exist. These columns are\n",
        "# geographical identifiers and are not needed for time-series analysis of case counts.\n",
        "# errors='ignore' prevents an error from being raised if these columns are already absent.\n",
        "confirmed_by_country = confirmed_by_country.drop(columns=['Lat', 'Long'], errors='ignore')\n",
        "\n",
        "# Transpose the DataFrame (.T) to swap rows and columns. This makes dates the index (rows)\n",
        "# and countries the columns, which is a convenient format for time-series calculations.\n",
        "# .diff() calculates the difference between consecutive rows along the 'Date' axis.\n",
        "# Since the 'confirmed_by_country' data is cumulative, .diff() gives the daily *new* cases.\n",
        "# .fillna(0) replaces any NaN values (which would appear on the first day for each country\n",
        "# as there's no preceding value to calculate a difference from) with 0.\n",
        "# .astype(int) converts the resulting daily case counts to integers.\n",
        "daily_cases = confirmed_by_country.T.diff().fillna(0).astype(int)\n",
        "\n",
        "# Convert the index of the 'daily_cases' DataFrame to datetime objects.\n",
        "# This ensures proper chronological order, enables time-based indexing, and allows\n",
        "# matplotlib to format dates correctly on plots.\n",
        "# format='%m/%d/%y' specifies the expected format of the date strings in the index.\n",
        "daily_cases.index = pd.to_datetime(daily_cases.index, format='%m/%d/%y')\n",
        "\n",
        "# Find the maximum daily new cases for each country.\n",
        "# This returns a Series where the index is the country and the value is its peak daily new case count.\n",
        "peak_daily = daily_cases.max()\n",
        "\n",
        "# Find the date (index) at which the maximum daily new cases occurred for each country.\n",
        "# This returns a Series where the index is the country and the value is the date of its peak.\n",
        "peak_dates = daily_cases.idxmax()\n",
        "\n",
        "# Create a new pandas DataFrame to neatly organize the peak daily new cases and their corresponding dates.\n",
        "peak_info = pd.DataFrame({\n",
        "    'Peak Daily New Cases': peak_daily, # The Series containing peak case counts\n",
        "    'Date of Peak': peak_dates         # The Series containing dates of those peaks\n",
        "})\n",
        "\n",
        "# Print a header for the output of the peak daily new cases analysis.\n",
        "print(\"Q5.1: Peak Daily New Cases\")\n",
        "# Print the 'peak_info' DataFrame, sorted by 'Peak Daily New Cases' in descending order.\n",
        "# This allows for easy comparison of which countries experienced the highest single-day surges.\n",
        "print(peak_info.sort_values(by='Peak Daily New Cases', ascending=False))\n",
        "print(\"\\n\") # Add a newline character for better separation in the console output."
      ],
      "metadata": {
        "id": "hIsQd3eGb-ja",
        "colab": {
          "base_uri": "https://localhost:8080/"
        },
        "outputId": "ce06f505-02cb-483b-cc72-1c28efe56661"
      },
      "execution_count": null,
      "outputs": [
        {
          "output_type": "stream",
          "name": "stdout",
          "text": [
            "Q5.1: Peak Daily New Cases\n",
            "                Peak Daily New Cases Date of Peak\n",
            "Country/Region                                   \n",
            "France                        117900   2021-04-11\n",
            "Germany                        49044   2020-12-30\n",
            "Italy                          40902   2020-11-13\n",
            "\n",
            "\n"
          ]
        }
      ]
    },
    {
      "cell_type": "markdown",
      "source": [
        "Question 5.2: Compare the number of recovery rates between canada and australia as of December 31, 2020? Which country shows better management to the pandemic according to this metric?"
      ],
      "metadata": {
        "id": "nufkIfadcSIh"
      }
    },
    {
      "cell_type": "code",
      "source": [],
      "metadata": {
        "id": "fGkwqmRqZPMs"
      },
      "execution_count": null,
      "outputs": []
    },
    {
      "cell_type": "markdown",
      "source": [
        "Question 5.3: What is the distribution of death rates in the provinces of Canda? Identify province with highest and lowest death rate as the latest data point?"
      ],
      "metadata": {
        "id": "wxMKrPttsA1I"
      }
    },
    {
      "cell_type": "code",
      "source": [],
      "metadata": {
        "id": "9OtJfS0ndS_G"
      },
      "execution_count": null,
      "outputs": []
    },
    {
      "cell_type": "markdown",
      "source": [
        "Question 6.1: Transform the deaths dataset from wide format (where each column represents a date) to long format, where each row represents a single date, ensuring that the date column is in datetime format. How would this transformation be executed?\n"
      ],
      "metadata": {
        "id": "YIbN2cdcsb99"
      }
    },
    {
      "cell_type": "code",
      "source": [
        "# Load the CSV file into a pandas DataFrame.\n",
        "# header=1 specifies that the second row (index 1) of the CSV contains the column headers.\n",
        "deaths_df = pd.read_csv(\"covid_19_deaths_v1_lyst1747728711771.csv\", header=1)\n",
        "\n",
        "# Transform the 'deaths_df' from a wide format to a long format.\n",
        "# This is useful when you have multiple columns representing measurements over time (dates in this case).\n",
        "deaths_long = deaths_df.melt(\n",
        "    id_vars=['Province/State', 'Country/Region', 'Lat', 'Long'], # These are the identifier variables that will remain as columns.\n",
        "    var_name='Date',        # The columns that are \"unpivoted\" (dates) will become values in this new 'Date' column.\n",
        "    value_name='Deaths'     # The values from the unpivoted columns will be stored in this new 'Deaths' column.\n",
        ")\n",
        "\n",
        "# Convert the 'Date' column to datetime objects.\n",
        "# This allows for proper time-series operations and filtering based on dates.\n",
        "# format='%m/%d/%y' specifies the expected format of the date strings (e.g., 'MM/DD/YY').\n",
        "deaths_long['Date'] = pd.to_datetime(deaths_long['Date'], format='%m/%d/%y')\n",
        "\n",
        "# Print the first few rows of the transformed DataFrame to verify the structure.\n",
        "print(\"Transformed dataset (first few rows):\")\n",
        "print(deaths_long.head())\n",
        "print(\"\\n\") # Add a newline for better readability"
      ],
      "metadata": {
        "id": "RjWwnFWcdkmP"
      },
      "execution_count": null,
      "outputs": []
    },
    {
      "cell_type": "markdown",
      "source": [
        "Question 6.2:  What is the total number of deaths reported per country up to the current date?\n"
      ],
      "metadata": {
        "id": "P3_G90fIsyN9"
      }
    },
    {
      "cell_type": "code",
      "source": [
        "# Find the most recent date in the 'Date' column of the 'deaths_long' DataFrame.\n",
        "latest_date = deaths_long['Date'].max()\n",
        "\n",
        "# Filter the 'deaths_long' DataFrame to get only the rows corresponding to the 'latest_date'.\n",
        "latest_deaths = deaths_long[deaths_long['Date'] == latest_date]\n",
        "\n",
        "# Group the 'latest_deaths' DataFrame by 'Country/Region' and calculate the sum of 'Deaths' for each country.\n",
        "# Then, sort the results in descending order to see countries with the highest death counts first.\n",
        "total_deaths_by_country = latest_deaths.groupby('Country/Region')['Deaths'].sum().sort_values(ascending=False)\n",
        "\n",
        "# Print a header for the output.\n",
        "print(\"Total deaths by country (top 10):\")\n",
        "# Print the top 10 countries by total deaths.\n",
        "print(total_deaths_by_country.head(10))\n",
        "print(\"\\n\") # Add a newline for better readability"
      ],
      "metadata": {
        "id": "_7pCxo27eOiR"
      },
      "execution_count": null,
      "outputs": []
    },
    {
      "cell_type": "markdown",
      "source": [
        "Question 6.3: What are the top 5 countries with the highest average daily deaths?\n"
      ],
      "metadata": {
        "id": "D-uDSKultjdt"
      }
    },
    {
      "cell_type": "code",
      "source": [
        "# Group the 'deaths_long' DataFrame by 'Country/Region' and 'Date'.\n",
        "# Then, calculate the sum of 'Deaths' for each unique country-date combination.\n",
        "# .reset_index() converts the grouped Series back into a DataFrame,\n",
        "# turning 'Country/Region' and 'Date' from index levels into regular columns.\n",
        "deaths_by_country_date = deaths_long.groupby(['Country/Region', 'Date'])['Deaths'].sum().reset_index()\n",
        "\n",
        "# Calculate the daily new deaths for each country.\n",
        "# First, group by 'Country/Region' to ensure that .diff() calculates differences\n",
        "# within each country's time series, preventing cross-country comparisons.\n",
        "# .diff() calculates the difference between the current 'Deaths' value and the previous one.\n",
        "# This converts cumulative deaths into daily new deaths.\n",
        "# .fillna(0) replaces any NaN values (which occur on the first date for each country) with 0.\n",
        "deaths_by_country_date['Daily_Deaths'] = deaths_by_country_date.groupby('Country/Region')['Deaths'].diff().fillna(0)\n",
        "\n",
        "# Calculate the average daily deaths for each country.\n",
        "# Group the DataFrame by 'Country/Region' again and then compute the mean of the 'Daily_Deaths'.\n",
        "# .sort_values(ascending=False) orders the countries from highest to lowest average daily deaths.\n",
        "avg_daily_deaths = deaths_by_country_date.groupby('Country/Region')['Daily_Deaths'].mean().sort_values(ascending=False)\n",
        "\n",
        "# Print the header for the output.\n",
        "print(\"Q6.3: Top 5 countries by average daily deaths:\")\n",
        "# Print the top 5 countries from the 'avg_daily_deaths' Series.\n",
        "# .head(5) selects the first 5 entries (which are the highest due to sorting).\n",
        "# .round(2) rounds the average daily death count to two decimal places for readability.\n",
        "print(avg_daily_deaths.head(5).round(2))\n",
        "print(\"\\n\") # Add a newline for better readability in the console output."
      ],
      "metadata": {
        "id": "yGg9GDJxeUD4",
        "colab": {
          "base_uri": "https://localhost:8080/"
        },
        "outputId": "e0641f28-cae4-4371-e58e-48439b1188d5"
      },
      "execution_count": null,
      "outputs": [
        {
          "output_type": "stream",
          "name": "stdout",
          "text": [
            "Q6.3: Top 5 countries by average daily deaths:\n",
            "Country/Region\n",
            "US                1203.05\n",
            "Brazil             933.31\n",
            "India              659.86\n",
            "Mexico             452.34\n",
            "United Kingdom     259.18\n",
            "Name: Daily_Deaths, dtype: float64\n",
            "\n",
            "\n"
          ]
        }
      ]
    },
    {
      "cell_type": "markdown",
      "source": [
        "Question 6.4: How have the total deaths evolved over time in the United States?\n"
      ],
      "metadata": {
        "id": "rsKvER5Ttywm"
      }
    },
    {
      "cell_type": "code",
      "source": [
        "# Filter the DataFrame to get only the rows corresponding to the 'US' (United States).\n",
        "# This isolates the death data specifically for the US across all recorded dates.\n",
        "usa_deaths = deaths_by_country_date[deaths_by_country_date['Country/Region'] == 'US']\n",
        "\n",
        "# Create a new figure and axes for the plot.\n",
        "# figsize=(12, 6) sets the width to 12 inches and height to 6 inches,\n",
        "# providing a good aspect ratio for time-series visualization.\n",
        "plt.figure(figsize=(12, 6))\n",
        "\n",
        "# Plot the 'Total Deaths' over 'Date' for the United States.\n",
        "# 'usa_deaths['Date']' will be on the x-axis (time).\n",
        "# 'usa_deaths['Deaths']' will be on the y-axis (cumulative death count).\n",
        "# 'label' provides a name for this line in the legend.\n",
        "plt.plot(usa_deaths['Date'], usa_deaths['Deaths'], label='Total Deaths')\n",
        "\n",
        "# Set the title of the plot.\n",
        "plt.title('Q6.4: Total COVID-19 Deaths Over Time in the United States')\n",
        "\n",
        "# Set the label for the x-axis.\n",
        "plt.xlabel('Date')\n",
        "\n",
        "# Set the label for the y-axis.\n",
        "plt.ylabel('Total Deaths')\n",
        "\n",
        "# Add a grid to the plot for better readability of values.\n",
        "plt.grid(True)\n",
        "\n",
        "# Display the legend, which uses the 'label' provided in plt.plot().\n",
        "plt.legend()\n",
        "\n",
        "# Adjust plot parameters for a tight layout, ensuring elements do not overlap.\n",
        "plt.tight_layout()\n",
        "\n",
        "# Display the generated plot.\n",
        "plt.show()"
      ],
      "metadata": {
        "id": "3XL4D19rxHzh",
        "colab": {
          "base_uri": "https://localhost:8080/",
          "height": 607
        },
        "outputId": "09d67c02-85d4-4b39-828f-025574804a6e"
      },
      "execution_count": null,
      "outputs": [
        {
          "output_type": "display_data",
          "data": {
            "text/plain": [
              "<Figure size 1200x600 with 1 Axes>"
            ],
            "image/png": "[encoded data removed]"
          },
          "metadata": {}
        }
      ]
    }
  ]
}